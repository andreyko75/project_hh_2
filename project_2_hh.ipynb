{
 "cells": [
  {
   "cell_type": "markdown",
   "id": "42289889-bd57-434e-9637-d3e354756316",
   "metadata": {
    "id": "42289889-bd57-434e-9637-d3e354756316"
   },
   "source": [
    "<center> <img src = https://raw.githubusercontent.com/AndreyRysistov/DatasetsForPandas/main/hh%20label.jpg alt=\"drawing\" style=\"width:400px;\">"
   ]
  },
  {
   "cell_type": "markdown",
   "id": "829cb75b-f14e-4ba8-9195-7ba929a7d656",
   "metadata": {
    "tags": [],
    "id": "829cb75b-f14e-4ba8-9195-7ba929a7d656"
   },
   "source": [
    "# <center> Проект: Анализ вакансий из HeadHunter\n",
    "   "
   ]
  },
  {
   "cell_type": "code",
   "execution_count": 184,
   "id": "dccfde33-2452-43fb-a8a5-5c6ebc02a71d",
   "metadata": {
    "id": "dccfde33-2452-43fb-a8a5-5c6ebc02a71d"
   },
   "outputs": [],
   "source": [
    "import pandas as pd\n",
    "import psycopg2\n",
    "import requests\n",
    "from bs4 import BeautifulSoup\n",
    "import warnings\n",
    "\n",
    "\n",
    "warnings.filterwarnings('ignore')   #will remove warning messages"
   ]
  },
  {
   "cell_type": "code",
   "source": [
    "# вставьте сюда параметры подключения из юнита 1. Работа с базой данных из Python "
   ],
   "metadata": {
    "id": "oVKH4ehvf8Ay"
   },
   "id": "oVKH4ehvf8Ay",
   "execution_count": 185,
   "outputs": []
  },
  {
   "cell_type": "code",
   "source": [
    "connection = psycopg2.connect(\n",
    "    dbname = DBNAME,\n",
    "    user = USER,\n",
    "    password = ******,\n",
    "    host = 'localhost,\n",
    "    port = 5432\n",
    ")"
   ],
   "metadata": {
    "id": "G4X_q8KBf7SF"
   },
   "id": "G4X_q8KBf7SF",
   "execution_count": 186,
   "outputs": []
  },
  {
   "cell_type": "markdown",
   "id": "0dc6476b-7a00-44f1-ac93-6e3baed33a29",
   "metadata": {
    "id": "0dc6476b-7a00-44f1-ac93-6e3baed33a29"
   },
   "source": [
    "# Юнит 3. Предварительный анализ данных"
   ]
  },
  {
   "cell_type": "markdown",
   "id": "889782b6-8d1c-410e-8920-e57f27917c64",
   "metadata": {
    "id": "889782b6-8d1c-410e-8920-e57f27917c64"
   },
   "source": [
    "1. Напишите запрос, который посчитает количество вакансий в нашей базе (вакансии находятся в таблице vacancies). "
   ]
  },
  {
   "cell_type": "code",
   "execution_count": 187,
   "id": "bc39e68e-ed02-4ee2-9235-7258a2f867a8",
   "metadata": {
    "id": "bc39e68e-ed02-4ee2-9235-7258a2f867a8"
   },
   "outputs": [],
   "source": [
    "# текст запроса\n",
    "query_3_1 = f'''select count (*)\n",
    "            from public.vacancies\n",
    "         '''"
   ]
  },
  {
   "cell_type": "code",
   "source": [
    "# результат запроса\n",
    "print(pd.read_sql_query(query_3_1, connection))"
   ],
   "metadata": {
    "id": "7mAwtsk4hEHY"
   },
   "id": "7mAwtsk4hEHY",
   "execution_count": 188,
   "outputs": [
    {
     "name": "stdout",
     "output_type": "stream",
     "text": [
      "   count\n",
      "0  49197\n"
     ]
    }
   ]
  },
  {
   "cell_type": "markdown",
   "id": "b583485d-1f9e-494e-ada4-80ffff7c53d6",
   "metadata": {
    "id": "b583485d-1f9e-494e-ada4-80ffff7c53d6"
   },
   "source": [
    "2. Напишите запрос, который посчитает количество работодателей (таблица employers). "
   ]
  },
  {
   "cell_type": "code",
   "execution_count": 189,
   "id": "5408c52c-3407-4a63-b25b-1aafa2322d28",
   "metadata": {
    "id": "5408c52c-3407-4a63-b25b-1aafa2322d28"
   },
   "outputs": [],
   "source": [
    "# текст запроса\n",
    "query_3_2 = f''' SELECT COUNT(DISTINCT id)\n",
    "            FROM public.employers\n",
    "         '''"
   ]
  },
  {
   "cell_type": "code",
   "source": [
    "# результат запроса\n",
    "print(pd.read_sql_query(query_3_2, connection))"
   ],
   "metadata": {
    "id": "jVL4eshKhdqc"
   },
   "id": "jVL4eshKhdqc",
   "execution_count": 190,
   "outputs": [
    {
     "name": "stdout",
     "output_type": "stream",
     "text": [
      "   count\n",
      "0  23501\n"
     ]
    }
   ]
  },
  {
   "cell_type": "markdown",
   "id": "a2bfff1f-c975-4bf6-84be-2185d79dcb76",
   "metadata": {
    "id": "a2bfff1f-c975-4bf6-84be-2185d79dcb76"
   },
   "source": [
    "3. Посчитате с помощью запроса количество регионов (таблица areas)."
   ]
  },
  {
   "cell_type": "code",
   "source": [
    "# текст запроса\n",
    "query_3_3 = f'''SELECT COUNT (DISTINCT id)\n",
    "            FROM public.areas\n",
    "         '''"
   ],
   "metadata": {
    "id": "1m8QJwBYhey6"
   },
   "id": "1m8QJwBYhey6",
   "execution_count": 191,
   "outputs": []
  },
  {
   "cell_type": "code",
   "source": [
    "# результат запроса\n",
    "print(pd.read_sql_query(query_3_3, connection))"
   ],
   "metadata": {
    "id": "EZsn9tlfhe7f"
   },
   "id": "EZsn9tlfhe7f",
   "execution_count": 192,
   "outputs": [
    {
     "name": "stdout",
     "output_type": "stream",
     "text": [
      "   count\n",
      "0   1362\n"
     ]
    }
   ]
  },
  {
   "cell_type": "markdown",
   "id": "41bb59f3-53cc-4a67-a5bc-bedf573955e4",
   "metadata": {
    "id": "41bb59f3-53cc-4a67-a5bc-bedf573955e4"
   },
   "source": [
    "4. Посчитате с помощью запроса количество сфер деятельности в базе (таблица industries)."
   ]
  },
  {
   "cell_type": "code",
   "execution_count": 193,
   "id": "d286cf4c-707b-4cd2-9190-7ab3587d04a1",
   "metadata": {
    "id": "d286cf4c-707b-4cd2-9190-7ab3587d04a1"
   },
   "outputs": [],
   "source": [
    "# текст запроса\n",
    "query_3_4 = f'''SELECT COUNT(DISTINCT id)\n",
    "            FROM public.industries\n",
    "         '''"
   ]
  },
  {
   "cell_type": "code",
   "source": [
    "# результат запроса\n",
    "print(pd.read_sql_query(query_3_4, connection))"
   ],
   "metadata": {
    "id": "JYAaoZ4qhfzW"
   },
   "id": "JYAaoZ4qhfzW",
   "execution_count": 194,
   "outputs": [
    {
     "name": "stdout",
     "output_type": "stream",
     "text": [
      "   count\n",
      "0    294\n"
     ]
    }
   ]
  },
  {
   "cell_type": "markdown",
   "id": "9a8a2181-6914-448b-85f1-38f5f18b8a93",
   "metadata": {
    "id": "9a8a2181-6914-448b-85f1-38f5f18b8a93"
   },
   "source": [
    "***"
   ]
  },
  {
   "cell_type": "code",
   "execution_count": 195,
   "id": "be4e9bd3-a4db-4a20-82fb-6b02fc2957e0",
   "metadata": {
    "id": "be4e9bd3-a4db-4a20-82fb-6b02fc2957e0"
   },
   "outputs": [],
   "source": [
    "# выводы по предварительному анализу данных"
   ]
  },
  {
   "cell_type": "markdown",
   "source": [
    "<span style=\"color:green\">**О каких то выводах говорить слишком рано. У нас есть набор значений по количеству вакансий, общему количеству работодателей, количество регионов и количество сфер деятельности.\n",
    "Всего размещено 49197 вакансий в 294 сферах деятельности. Зарегистрирован 23501 работодатель. Всего 1362 региона/населенных пункта.**</span>."
   ],
   "metadata": {
    "collapsed": false
   }
  },
  {
   "cell_type": "markdown",
   "id": "8d62a9f3-f64e-4fe7-bdac-c4dffa16155e",
   "metadata": {
    "id": "8d62a9f3-f64e-4fe7-bdac-c4dffa16155e"
   },
   "source": [
    "# Юнит 4. Детальный анализ вакансий"
   ]
  },
  {
   "cell_type": "markdown",
   "id": "93053d3d-b284-481a-9cf7-012d7014c0e0",
   "metadata": {
    "id": "93053d3d-b284-481a-9cf7-012d7014c0e0"
   },
   "source": [
    "1. Напишите запрос, который позволит узнать, сколько (cnt) вакансий в каждом регионе (area).\n",
    "Отсортируйте по количеству вакансий в порядке убывания."
   ]
  },
  {
   "cell_type": "code",
   "execution_count": 196,
   "id": "3f069da6-fdc9-4ae7-b514-fafe2675efd3",
   "metadata": {
    "id": "3f069da6-fdc9-4ae7-b514-fafe2675efd3"
   },
   "outputs": [],
   "source": [
    "# текст запроса\n",
    "query_4_1 = f'''SELECT  pa.id, pa.name, COUNT (pv.id)\n",
    "            FROM public.vacancies AS pv\n",
    "            JOIN public.areas AS pa ON pv.area_id=pa.id\n",
    "            GROUP BY pa.id\n",
    "            ORDER BY COUNT (pv.id) DESC\n",
    "            LIMIT 5\n",
    "        '''"
   ]
  },
  {
   "cell_type": "code",
   "source": [
    "# результат запроса\n",
    "print(pd.read_sql_query(query_4_1, connection))"
   ],
   "metadata": {
    "id": "P7QL86hrjhRJ"
   },
   "id": "P7QL86hrjhRJ",
   "execution_count": 197,
   "outputs": [
    {
     "name": "stdout",
     "output_type": "stream",
     "text": [
      "     id             name  count\n",
      "0     1           Москва   5333\n",
      "1     2  Санкт-Петербург   2851\n",
      "2  1002            Минск   2112\n",
      "3     4      Новосибирск   2006\n",
      "4   160           Алматы   1892\n"
     ]
    }
   ]
  },
  {
   "cell_type": "markdown",
   "id": "4266f0b6-1646-492a-88b4-2f6a46502135",
   "metadata": {
    "id": "4266f0b6-1646-492a-88b4-2f6a46502135"
   },
   "source": [
    "2. Напишите запрос, чтобы определить у какого количества вакансий заполнено хотя бы одно из двух полей с зарплатой."
   ]
  },
  {
   "cell_type": "code",
   "execution_count": 198,
   "id": "0c44b350-72eb-4d65-8b54-a1fc449ba9fd",
   "metadata": {
    "id": "0c44b350-72eb-4d65-8b54-a1fc449ba9fd"
   },
   "outputs": [],
   "source": [
    "# текст запроса\n",
    "query_4_2 = f'''SELECT COUNT(*)\n",
    "            FROM public.vacancies\n",
    "            WHERE salary_from IS NOT NULL or salary_to  IS NOT NULL\n",
    "         '''\n"
   ]
  },
  {
   "cell_type": "code",
   "source": [
    "# результат\n",
    "print(pd.read_sql_query(query_4_2, connection))"
   ],
   "metadata": {
    "id": "rhvwaMDkoWTi"
   },
   "id": "rhvwaMDkoWTi",
   "execution_count": 199,
   "outputs": [
    {
     "name": "stdout",
     "output_type": "stream",
     "text": [
      "   count\n",
      "0  24073\n"
     ]
    }
   ]
  },
  {
   "cell_type": "markdown",
   "id": "635c4d5d-f323-4c66-b428-50a088120aa0",
   "metadata": {
    "id": "635c4d5d-f323-4c66-b428-50a088120aa0"
   },
   "source": [
    "3. Найдите средние значения для нижней и верхней границы зарплатной вилки. Округлите значения до целого."
   ]
  },
  {
   "cell_type": "code",
   "execution_count": 200,
   "id": "603cdbe4-0ec3-4106-8eaf-c73fcdd29165",
   "metadata": {
    "id": "603cdbe4-0ec3-4106-8eaf-c73fcdd29165"
   },
   "outputs": [],
   "source": [
    "# текст запроса\n",
    "query_4_3 = f'''SELECT ROUND(AVG(salary_from)), ROUND(AVG(salary_to))\n",
    "            FROM public.vacancies\n",
    "         '''\n"
   ]
  },
  {
   "cell_type": "code",
   "source": [
    "# результат запроса\n",
    "print(pd.read_sql_query(query_4_3, connection))"
   ],
   "metadata": {
    "id": "pswpAb66ovZZ"
   },
   "id": "pswpAb66ovZZ",
   "execution_count": 201,
   "outputs": [
    {
     "name": "stdout",
     "output_type": "stream",
     "text": [
      "     round     round\n",
      "0  71065.0  110537.0\n"
     ]
    }
   ]
  },
  {
   "cell_type": "markdown",
   "id": "f3fdaec9-5fd3-4260-9cf5-1d7406b628a5",
   "metadata": {
    "id": "f3fdaec9-5fd3-4260-9cf5-1d7406b628a5"
   },
   "source": [
    "4. Напишите запрос, который выведет количество вакансий для каждого сочетания типа рабочего графика (schedule) и типа трудоустройства (employment), используемого в вакансиях. Результат отсортируйте по убыванию количества.\n"
   ]
  },
  {
   "cell_type": "code",
   "execution_count": 202,
   "id": "1ea710ec-871b-431e-9462-c7d0fd87011b",
   "metadata": {
    "id": "1ea710ec-871b-431e-9462-c7d0fd87011b"
   },
   "outputs": [],
   "source": [
    "# текст запроса\n",
    "query_4_4 = f'''SELECT schedule, employment, COUNT (id)\n",
    "            FROM public.vacancies\n",
    "            GROUP BY schedule, employment\n",
    "            ORDER BY COUNT (id) DESC\n",
    "            LIMIT 2\n",
    "            '''"
   ]
  },
  {
   "cell_type": "code",
   "source": [
    "# результат запроса\n",
    "print(pd.read_sql_query(query_4_4, connection))"
   ],
   "metadata": {
    "id": "lGUVqavdo4JQ"
   },
   "id": "lGUVqavdo4JQ",
   "execution_count": 203,
   "outputs": [
    {
     "name": "stdout",
     "output_type": "stream",
     "text": [
      "           schedule        employment  count\n",
      "0       Полный день  Полная занятость  35367\n",
      "1  Удаленная работа  Полная занятость   7802\n"
     ]
    }
   ]
  },
  {
   "cell_type": "markdown",
   "id": "0136ffee-0ead-4a6b-b608-61d1c753a438",
   "metadata": {
    "id": "0136ffee-0ead-4a6b-b608-61d1c753a438"
   },
   "source": [
    "5. Напишите запрос, выводящий значения поля Требуемый опыт работы (experience) в порядке возрастания количества вакансий, в которых указан данный вариант опыта. "
   ]
  },
  {
   "cell_type": "code",
   "execution_count": 204,
   "id": "5b3a8e79-f7ab-4008-b767-12aea3a205ea",
   "metadata": {
    "id": "5b3a8e79-f7ab-4008-b767-12aea3a205ea"
   },
   "outputs": [],
   "source": [
    "# текст запроса\n",
    "query_4_5 = f'''SELECT experience, COUNT (id)\n",
    "            FROM public.vacancies\n",
    "            WHERE schedule= 'Удаленная работа' AND employment= 'Полная занятость'\n",
    "            GROUP BY experience\n",
    "            ORDER BY COUNT (id)\n",
    "         '''\n"
   ]
  },
  {
   "cell_type": "code",
   "source": [
    "# результат запроса\n",
    "print(pd.read_sql_query(query_4_5, connection))"
   ],
   "metadata": {
    "id": "3Is64Y-hpDpq"
   },
   "id": "3Is64Y-hpDpq",
   "execution_count": 205,
   "outputs": [
    {
     "name": "stdout",
     "output_type": "stream",
     "text": [
      "           experience  count\n",
      "0         Более 6 лет    218\n",
      "1           Нет опыта    878\n",
      "2       От 3 до 6 лет   2960\n",
      "3  От 1 года до 3 лет   3746\n"
     ]
    }
   ]
  },
  {
   "cell_type": "markdown",
   "source": [
    "***"
   ],
   "metadata": {
    "id": "oq2b7n1QpIka"
   },
   "id": "oq2b7n1QpIka"
  },
  {
   "cell_type": "code",
   "execution_count": 206,
   "id": "e91f87ed-e25c-4f96-9f92-b642e8c0b4fa",
   "metadata": {
    "id": "e91f87ed-e25c-4f96-9f92-b642e8c0b4fa"
   },
   "outputs": [],
   "source": [
    "# выводы по детальному анализу вакансий"
   ]
  },
  {
   "cell_type": "markdown",
   "source": [
    "<span style=\"color:green\">**Ожидаемо что самое большое количество вакансий расположено в Москве и Санкт-Петербурге 5333 и 2851 соответственно. У 24073 вакансий заполнено хотя бы одно поле с зарплатой, что составляет 49% от общего количества вакансий. Анализ среднего значения зарплатной вилки практически бесполезен, так как большие зарплатные ожидания у столиц, и, естественно, что они будут тянуть эти показатели вверх. Всего 18% вакансий предполагают  удаленную работу. Основная масса вакансий подразумевает опыт работы от 1 до 6 лет**</span>."
   ],
   "metadata": {
    "collapsed": false
   }
  },
  {
   "cell_type": "markdown",
   "id": "7ea20ab6-04a7-40a0-adec-443a0e5a42c3",
   "metadata": {
    "id": "7ea20ab6-04a7-40a0-adec-443a0e5a42c3"
   },
   "source": [
    "# Юнит 5. Анализ работодателей"
   ]
  },
  {
   "cell_type": "markdown",
   "id": "968aed80-74ef-4ffb-b5bf-c65b84e9caea",
   "metadata": {
    "id": "968aed80-74ef-4ffb-b5bf-c65b84e9caea"
   },
   "source": [
    "1. Напишите запрос, который позволит узнать, какие работодатели находятся на первом и пятом месте по количеству вакансий."
   ]
  },
  {
   "cell_type": "code",
   "execution_count": 207,
   "id": "f2d62796-d400-4ec1-a675-88112739a50e",
   "metadata": {
    "id": "f2d62796-d400-4ec1-a675-88112739a50e"
   },
   "outputs": [],
   "source": [
    "# текст запроса\n",
    "query_5_1 = f'''SELECT  pe.id, pe.name, COUNT (pv.id)\n",
    "            FROM public.vacancies AS pv\n",
    "            JOIN public.employers AS pe ON pv.employer_id=pe.id\n",
    "            GROUP BY pe.id\n",
    "            ORDER BY COUNT (pv.id) DESC\n",
    "            LIMIT 5\n",
    "        '''\n"
   ]
  },
  {
   "cell_type": "code",
   "source": [
    "# результат запроса\n",
    "print(pd.read_sql_query(query_5_1, connection))"
   ],
   "metadata": {
    "id": "64tOMkAxqkQk"
   },
   "id": "64tOMkAxqkQk",
   "execution_count": 208,
   "outputs": [
    {
     "name": "stdout",
     "output_type": "stream",
     "text": [
      "      id           name  count\n",
      "0   1740         Яндекс   1933\n",
      "1   2748     Ростелеком    491\n",
      "2  78638       Тинькофф    444\n",
      "3   3529           СБЕР    428\n",
      "4  39305  Газпром нефть    331\n"
     ]
    }
   ]
  },
  {
   "cell_type": "markdown",
   "id": "68377cfc-b378-43dc-ab7d-1195abf2c515",
   "metadata": {
    "id": "68377cfc-b378-43dc-ab7d-1195abf2c515"
   },
   "source": [
    "2. Напишите запрос, который для каждого региона выведет количество работодателей и вакансий в нём.\n",
    "Среди регионов, в которых нет вакансий, найдите тот, в котором наибольшее количество работодателей.\n"
   ]
  },
  {
   "cell_type": "code",
   "execution_count": 209,
   "id": "dd7df27a-e3e8-412e-a21a-5d389b71e891",
   "metadata": {
    "id": "dd7df27a-e3e8-412e-a21a-5d389b71e891"
   },
   "outputs": [],
   "source": [
    "# текст запроса\n",
    "query_5_2 = f'''SELECT  pa.id, pa.name, COUNT (*)\n",
    "            FROM public.areas AS pa\n",
    "               LEFT JOIN public.employers AS pe ON pa.id=pe.area\n",
    "                    LEFT JOIN public.vacancies AS pv ON pa.id=pv.area_id\n",
    "                        WHERE pv.id IS NULL\n",
    "            GROUP BY pa.id\n",
    "            ORDER BY COUNT (*) desc\n",
    "            LIMIT 1\n",
    "        '''\n"
   ]
  },
  {
   "cell_type": "code",
   "source": [
    "# результат запроса\n",
    "print(pd.read_sql_query(query_5_2, connection))"
   ],
   "metadata": {
    "id": "x1ikWbydrbf6"
   },
   "id": "x1ikWbydrbf6",
   "execution_count": 210,
   "outputs": [
    {
     "name": "stdout",
     "output_type": "stream",
     "text": [
      "    id    name  count\n",
      "0  113  Россия    410\n"
     ]
    }
   ]
  },
  {
   "cell_type": "markdown",
   "id": "f2fe0acb-ab1a-4e15-9326-2560e22d73c1",
   "metadata": {
    "id": "f2fe0acb-ab1a-4e15-9326-2560e22d73c1"
   },
   "source": [
    "3. Для каждого работодателя посчитайте количество регионов, в которых он публикует свои вакансии. Отсортируйте результат по убыванию количества.\n"
   ]
  },
  {
   "cell_type": "code",
   "execution_count": 211,
   "id": "6271f8ad-bd2e-4196-ae4a-5b39c4c1010e",
   "metadata": {
    "id": "6271f8ad-bd2e-4196-ae4a-5b39c4c1010e"
   },
   "outputs": [],
   "source": [
    "# текст запроса\n",
    "query_5_3 = f'''SELECT  pe.id, pe.name, COUNT (DISTINCT pv.area_id)\n",
    "            FROM public.vacancies AS pv\n",
    "                JOIN public.employers AS pe ON pv.employer_id=pe.id\n",
    "            GROUP BY pe.id\n",
    "            ORDER BY COUNT (DISTINCT pv.area_id) desc\n",
    "            LIMIT 1\n",
    "        '''"
   ]
  },
  {
   "cell_type": "code",
   "source": [
    "# результат запроса\n",
    "print(pd.read_sql_query(query_5_3, connection))"
   ],
   "metadata": {
    "id": "1EIvX3HasH4F"
   },
   "id": "1EIvX3HasH4F",
   "execution_count": 212,
   "outputs": [
    {
     "name": "stdout",
     "output_type": "stream",
     "text": [
      "     id    name  count\n",
      "0  1740  Яндекс    181\n"
     ]
    }
   ]
  },
  {
   "cell_type": "markdown",
   "id": "eab2206d-d95b-468b-8e5f-34381abf0ce7",
   "metadata": {
    "id": "eab2206d-d95b-468b-8e5f-34381abf0ce7"
   },
   "source": [
    "4. Напишите запрос для подсчёта количества работодателей, у которых не указана сфера деятельности. "
   ]
  },
  {
   "cell_type": "code",
   "execution_count": 213,
   "id": "80defb23-bfb1-4a18-8be6-bf36aa7165d5",
   "metadata": {
    "id": "80defb23-bfb1-4a18-8be6-bf36aa7165d5"
   },
   "outputs": [],
   "source": [
    "# текст запроса\n",
    "query_5_4 = f'''SELECT   COUNT(pe.id)\n",
    "            FROM public.employers AS pe\n",
    "              LEFT JOIN public.employers_industries AS pei ON pe.id=pei.employer_id\n",
    "                WHERE pei.employer_id IS NULL\n",
    "        '''"
   ]
  },
  {
   "cell_type": "code",
   "source": [
    "# результат запроса\n",
    "print(pd.read_sql_query(query_5_4, connection))"
   ],
   "metadata": {
    "id": "Dp_yCx6ysQSu"
   },
   "id": "Dp_yCx6ysQSu",
   "execution_count": 214,
   "outputs": [
    {
     "name": "stdout",
     "output_type": "stream",
     "text": [
      "   count\n",
      "0   8419\n"
     ]
    }
   ]
  },
  {
   "cell_type": "markdown",
   "id": "0112af31-f6b0-4e3b-82ab-71296e752e5e",
   "metadata": {
    "id": "0112af31-f6b0-4e3b-82ab-71296e752e5e"
   },
   "source": [
    "5. Напишите запрос, чтобы узнать название компании, находящейся на третьем месте в алфавитном списке (по названию) компаний, у которых указано четыре сферы деятельности. "
   ]
  },
  {
   "cell_type": "code",
   "execution_count": 215,
   "id": "973b0cfc-a972-470a-8b4a-68744ef220c4",
   "metadata": {
    "id": "973b0cfc-a972-470a-8b4a-68744ef220c4"
   },
   "outputs": [],
   "source": [
    "# текст запроса\n",
    "query_5_5 = f'''SELECT   pe.id, pe.name, COUNT(*)\n",
    "            FROM public.employers_industries AS pei\n",
    "                JOIN public.employers AS pe ON pe.id=pei.employer_id\n",
    "            GROUP BY pe.id\n",
    "                HAVING COUNT(*)= 4\n",
    "            ORDER BY pe.name\n",
    "            LIMIT 3\n",
    "\n",
    "        '''"
   ]
  },
  {
   "cell_type": "code",
   "source": [
    "# результат запроса\n",
    "print(pd.read_sql_query(query_5_5, connection))"
   ],
   "metadata": {
    "id": "xsPtpp8EsaED"
   },
   "id": "xsPtpp8EsaED",
   "execution_count": 216,
   "outputs": [
    {
     "name": "stdout",
     "output_type": "stream",
     "text": [
      "       id          name  count\n",
      "0  800646  101 Интернет      4\n",
      "1  763400      21vek.by      4\n",
      "2   64174          2ГИС      4\n"
     ]
    }
   ]
  },
  {
   "cell_type": "markdown",
   "id": "3bfcfdaf-755d-4d2b-8ed8-326201dc07ab",
   "metadata": {
    "id": "3bfcfdaf-755d-4d2b-8ed8-326201dc07ab"
   },
   "source": [
    "6. С помощью запроса выясните, у какого количества работодателей в качестве сферы деятельности указана Разработка программного обеспечения.\n"
   ]
  },
  {
   "cell_type": "code",
   "execution_count": 217,
   "id": "ad3f270f-2991-47eb-929b-e8f88a55b0d1",
   "metadata": {
    "id": "ad3f270f-2991-47eb-929b-e8f88a55b0d1"
   },
   "outputs": [],
   "source": [
    "# текст запроса\n",
    "query_5_6 = f'''SELECT  COUNT(*)\n",
    "        FROM public.employers_industries AS pei\n",
    "            JOIN public.industries AS pi on pei.industry_id=pi.id\n",
    "                WHERE pi.name='Разработка программного обеспечения'\n",
    "        '''"
   ]
  },
  {
   "cell_type": "code",
   "source": [
    "# результат запроса\n",
    "print(pd.read_sql_query(query_5_6, connection))"
   ],
   "metadata": {
    "id": "H72qxWM0shPR"
   },
   "id": "H72qxWM0shPR",
   "execution_count": 218,
   "outputs": [
    {
     "name": "stdout",
     "output_type": "stream",
     "text": [
      "   count\n",
      "0   3553\n"
     ]
    }
   ]
  },
  {
   "cell_type": "markdown",
   "id": "7b02bb86-0546-40fb-94a4-242f050a5c57",
   "metadata": {
    "id": "7b02bb86-0546-40fb-94a4-242f050a5c57"
   },
   "source": [
    "7. Для компании «Яндекс» выведите список регионов-миллионников, в которых представлены вакансии компании, вместе с количеством вакансий в этих регионах. Также добавьте строку Total с общим количеством вакансий компании. Результат отсортируйте по возрастанию количества.\n",
    "\n",
    "Список городов-милионников надо взять [отсюда](https://ru.wikipedia.org/wiki/%D0%93%D0%BE%D1%80%D0%BE%D0%B4%D0%B0-%D0%BC%D0%B8%D0%BB%D0%BB%D0%B8%D0%BE%D0%BD%D0%B5%D1%80%D1%8B_%D0%A0%D0%BE%D1%81%D1%81%D0%B8%D0%B8). \n",
    "\n",
    "Если возникнут трудности с этим задание посмотрите материалы модуля  PYTHON-17. Как получать данные из веб-источников и API. "
   ]
  },
  {
   "cell_type": "code",
   "source": [
    "# код для получения списка городов-милионников\n",
    "\n",
    "url = 'https://ru.wikipedia.org/wiki/%D0%93%D0%BE%D1%80%D0%BE%D0%B4%D0%B0-%D0%BC%D0%B8%D0%BB%D0%BB%D0%B8%D0%BE%D0%BD%D0%B5%D1%80%D1%8B_%D0%A0%D0%BE%D1%81%D1%81%D0%B8%D0%B8'\n",
    "response = requests.get(url,headers={'User-Agent': 'Mozilla/5.0 (Macintosh; Intel Mac OS X 10_15_7) AppleWebKit/537.36 (KHTML, like Gecko) Chrome/110.0.0.0 Safari/537.36'})\n",
    "page = BeautifulSoup(response.text, 'html.parser')\n",
    "soup=page.find('table', class_='standard sortable')\n",
    "millions=''\n",
    "for i in soup.find_all('a'):\n",
    "    if i.text[0].upper()==i.text[0] and i.text[0]!='[':    #Exclude phrases that start with a small letter and '['\n",
    "        millions+=\"'\"+i.text+\"'\"+', '\n",
    "millions=millions[:-2]\n",
    "print(millions)"
   ],
   "metadata": {
    "id": "ZdfrL6gIs1Pn"
   },
   "id": "ZdfrL6gIs1Pn",
   "execution_count": 219,
   "outputs": [
    {
     "name": "stdout",
     "output_type": "stream",
     "text": [
      "'Москва', 'Санкт-Петербург', 'Новосибирск', 'Екатеринбург', 'Казань', 'Нижний Новгород', 'Челябинск', 'Красноярск', 'Самара', 'Уфа', 'Ростов-на-Дону', 'Омск', 'Краснодар', 'Воронеж', 'Пермь', 'Волгоград'\n"
     ]
    }
   ]
  },
  {
   "cell_type": "code",
   "execution_count": 220,
   "id": "5a0e32a4-e68a-4365-8a39-2fe24c542c36",
   "metadata": {
    "id": "5a0e32a4-e68a-4365-8a39-2fe24c542c36"
   },
   "outputs": [],
   "source": [
    "# текст запроса\n",
    "query_5_7 = f'''SELECT  pa.name AS city , COUNT(*) AS city_count\n",
    "        FROM public.vacancies AS pv\n",
    "            JOIN public.employers AS pe on pv.employer_id=pe.id\n",
    "                JOIN public.areas AS pa on pv.area_id=pa.id\n",
    "                    WHERE pe.name='Яндекс' AND pa.name IN ({millions})\n",
    "        GROUP BY pa.name\n",
    "\n",
    "        UNION ALL\n",
    "        SELECT  'Total' AS city , COUNT(*) AS city_count\n",
    "        FROM public.vacancies AS pv\n",
    "            JOIN public.employers AS pe on pv.employer_id=pe.id\n",
    "                JOIN public.areas AS pa on pv.area_id=pa.id\n",
    "                    WHERE pe.name='Яндекс' AND pa.name IN ({millions})\n",
    "        ORDER BY city_count\n",
    "        '''"
   ]
  },
  {
   "cell_type": "code",
   "source": [
    "# результат запроса\n",
    "print(pd.read_sql_query(query_5_7, connection))"
   ],
   "metadata": {
    "id": "ttPhiO1rsvPq"
   },
   "id": "ttPhiO1rsvPq",
   "execution_count": 221,
   "outputs": [
    {
     "name": "stdout",
     "output_type": "stream",
     "text": [
      "               city  city_count\n",
      "0              Омск          21\n",
      "1         Челябинск          22\n",
      "2        Красноярск          23\n",
      "3         Волгоград          24\n",
      "4             Пермь          25\n",
      "5            Казань          25\n",
      "6    Ростов-на-Дону          25\n",
      "7               Уфа          26\n",
      "8            Самара          26\n",
      "9         Краснодар          30\n",
      "10          Воронеж          32\n",
      "11      Новосибирск          35\n",
      "12  Нижний Новгород          36\n",
      "13     Екатеринбург          39\n",
      "14  Санкт-Петербург          42\n",
      "15           Москва          54\n",
      "16            Total         485\n"
     ]
    }
   ]
  },
  {
   "cell_type": "markdown",
   "id": "04966e40-3bc3-4dc8-9ba2-e80580ce3abc",
   "metadata": {
    "id": "04966e40-3bc3-4dc8-9ba2-e80580ce3abc"
   },
   "source": [
    "***"
   ]
  },
  {
   "cell_type": "code",
   "source": [
    "# выводы по анализу работодателей"
   ],
   "metadata": {
    "id": "aGGyER-yt4SR"
   },
   "id": "aGGyER-yt4SR",
   "execution_count": 222,
   "outputs": []
  },
  {
   "cell_type": "markdown",
   "source": [
    "<span style=\"color:green\">**Самое большое количество вакансий размещено компанией Яндекс. Самое большое количество работодателей, по которым нет вакансий расположено в регионе, который в базе указан как  Россия. При анализе регионов присутствия видно, что Яндекс присутствует в 181 регионе.  8419 компаний не указали сферу деятельности. У 3553 работодателей указана сфера деятельности \"Разработка ПО\". Компанией Яндекс размещено 485 вакансий в городах-милллионниках из которых Москва и СПБ занимают лидирующие позиции - 54 и 42 соответственно.**</span>."
   ],
   "metadata": {
    "collapsed": false
   }
  },
  {
   "cell_type": "markdown",
   "id": "b1ef156a-efcb-49ce-bb23-90763e7f35b2",
   "metadata": {
    "tags": [],
    "id": "b1ef156a-efcb-49ce-bb23-90763e7f35b2"
   },
   "source": [
    "# Юнит 6. Предметный анализ"
   ]
  },
  {
   "cell_type": "markdown",
   "id": "b9cd50a0-992d-4988-8463-2b2b1c4629b4",
   "metadata": {
    "id": "b9cd50a0-992d-4988-8463-2b2b1c4629b4"
   },
   "source": [
    "1. Сколько вакансий имеет отношение к данным?\n",
    "\n",
    "Считаем, что вакансия имеет отношение к данным, если в её названии содержатся слова 'data' или 'данн'.\n",
    "\n",
    "*Подсказка: Обратите внимание, что названия вакансий могут быть написаны в любом регистре.* \n"
   ]
  },
  {
   "cell_type": "code",
   "execution_count": 223,
   "id": "54ab0e50-c0f1-47cc-a54b-bc5c8bc363f9",
   "metadata": {
    "id": "54ab0e50-c0f1-47cc-a54b-bc5c8bc363f9"
   },
   "outputs": [],
   "source": [
    "#\n",
    "query_6_1 = f'''SELECT  COUNT(*)\n",
    "        FROM public.vacancies\n",
    "            WHERE LOWER(name) LIKE '%data%' OR LOWER(name) LIKE '%данн%'\n",
    "            '''\n"
   ]
  },
  {
   "cell_type": "code",
   "source": [
    "# результат запроса\n",
    "print(pd.read_sql_query(query_6_1, connection))"
   ],
   "metadata": {
    "id": "9F1meAqsuUjd"
   },
   "id": "9F1meAqsuUjd",
   "execution_count": 224,
   "outputs": [
    {
     "name": "stdout",
     "output_type": "stream",
     "text": [
      "   count\n",
      "0   1771\n"
     ]
    }
   ]
  },
  {
   "cell_type": "markdown",
   "id": "4dea20cb-a36b-474a-a0b9-e08e8e3857a5",
   "metadata": {
    "id": "4dea20cb-a36b-474a-a0b9-e08e8e3857a5"
   },
   "source": [
    "2. Сколько есть подходящих вакансий для начинающего дата-сайентиста? \n",
    "Будем считать вакансиями для дата-сайентистов такие, в названии которых есть хотя бы одно из следующих сочетаний:\n",
    "* 'data scientist'\n",
    "* 'data science'\n",
    "* 'исследователь данных'\n",
    "* 'ML' (здесь не нужно брать вакансии по HTML)\n",
    "* 'machine learning'\n",
    "* 'машинн%обучен%'\n",
    "\n",
    "** В следующих заданиях мы продолжим работать с вакансиями по этому условию.*\n",
    "\n",
    "Считаем вакансиями для специалистов уровня Junior следующие:\n",
    "* в названии есть слово 'junior' *или*\n",
    "* требуемый опыт — Нет опыта *или*\n",
    "* тип трудоустройства — Стажировка.\n",
    " "
   ]
  },
  {
   "cell_type": "code",
   "execution_count": 225,
   "id": "9c61b3c0-bb66-46c9-ae1e-81d3f5752b4a",
   "metadata": {
    "id": "9c61b3c0-bb66-46c9-ae1e-81d3f5752b4a"
   },
   "outputs": [],
   "source": [
    "# текст запроса\n",
    "query_6_2 = f'''SELECT  COUNT(*)\n",
    "        FROM public.vacancies\n",
    "            WHERE (name ILIKE '%data scientist%'\n",
    "                OR name ILIKE '%data science%'\n",
    "                OR name ILIKE '%исследователь данных%'\n",
    "                OR (name LIKE '%ML%' AND  name NOT ILIKE '%html%')\n",
    "                OR name ILIKE '%machine learning%'\n",
    "                OR name ILIKE '%машинн%обучен%')\n",
    "                AND\n",
    "                    (name ILIKE '%junior%'\n",
    "                    OR experience ILIKE '%нет опыта%'\n",
    "                    OR employment ILIKE '%стажировка%')\n",
    "            '''\n"
   ]
  },
  {
   "cell_type": "code",
   "source": [
    "# результат запроса\n",
    "print(pd.read_sql_query(query_6_2, connection))"
   ],
   "metadata": {
    "id": "ZNM-LLYuu1dj"
   },
   "id": "ZNM-LLYuu1dj",
   "execution_count": 226,
   "outputs": [
    {
     "name": "stdout",
     "output_type": "stream",
     "text": [
      "   count\n",
      "0     51\n"
     ]
    }
   ]
  },
  {
   "cell_type": "markdown",
   "id": "eedceb80-c5ca-480e-b27a-278dfb8b4438",
   "metadata": {
    "id": "eedceb80-c5ca-480e-b27a-278dfb8b4438"
   },
   "source": [
    "3. Сколько есть вакансий для DS, в которых в качестве ключевого навыка указан SQL или postgres?\n",
    "\n",
    "** Критерии для отнесения вакансии к DS указаны в предыдущем задании.*"
   ]
  },
  {
   "cell_type": "code",
   "execution_count": 227,
   "id": "69621713-0cc5-4f1b-a1d7-bb144fa6148c",
   "metadata": {
    "id": "69621713-0cc5-4f1b-a1d7-bb144fa6148c"
   },
   "outputs": [],
   "source": [
    "# текст запроса\n",
    "query_6_3 = f'''SELECT  COUNT(*)\n",
    "        FROM public.vacancies\n",
    "            WHERE (name ILIKE '%data scientist%'\n",
    "                OR name ILIKE '%data science%'\n",
    "                OR name ILIKE '%исследователь данных%'\n",
    "                OR (name LIKE '%ML%' AND  name NOT ILIKE '%html%')\n",
    "                OR name ILIKE '%machine learning%'\n",
    "                OR name ILIKE '%машинн%обучен%')\n",
    "                AND\n",
    "                    (\n",
    "                    key_skills ILIKE '%SQL%'\n",
    "                    OR key_skills ILIKE '%postgres%'\n",
    "                    )\n",
    "\n",
    "            '''\n"
   ]
  },
  {
   "cell_type": "code",
   "source": [
    "# результат запроса\n",
    "print(pd.read_sql_query(query_6_3, connection))"
   ],
   "metadata": {
    "id": "alA8WEAAvGdf"
   },
   "id": "alA8WEAAvGdf",
   "execution_count": 228,
   "outputs": [
    {
     "name": "stdout",
     "output_type": "stream",
     "text": [
      "   count\n",
      "0    201\n"
     ]
    }
   ]
  },
  {
   "cell_type": "markdown",
   "id": "1be1e9c6-37cf-4a5f-bfeb-04cab799dc80",
   "metadata": {
    "id": "1be1e9c6-37cf-4a5f-bfeb-04cab799dc80"
   },
   "source": [
    "4. Проверьте, насколько популярен Python в требованиях работодателей к DS.Для этого вычислите количество вакансий, в которых в качестве ключевого навыка указан Python.\n",
    "\n",
    "** Это можно сделать помощью запроса, аналогичного предыдущему.*"
   ]
  },
  {
   "cell_type": "code",
   "execution_count": 229,
   "id": "0036a355-9ccf-4564-8b01-73d8194297e7",
   "metadata": {
    "id": "0036a355-9ccf-4564-8b01-73d8194297e7"
   },
   "outputs": [],
   "source": [
    "# текст запроса\n",
    "query_6_4 = f'''SELECT  COUNT(*)\n",
    "        FROM public.vacancies\n",
    "            WHERE (name ILIKE '%data scientist%'\n",
    "                OR name ILIKE '%data science%'\n",
    "                OR name ILIKE '%исследователь данных%'\n",
    "                OR (name LIKE '%ML%' AND  name NOT ILIKE '%html%')\n",
    "                OR name ILIKE '%machine learning%'\n",
    "                OR name ILIKE '%машинн%обучен%')\n",
    "               AND\n",
    "                   key_skills ILIKE '%python%'\n",
    "            '''\n",
    "\n"
   ]
  },
  {
   "cell_type": "code",
   "source": [
    "# результат запроса\n",
    "print(pd.read_sql_query(query_6_4, connection))"
   ],
   "metadata": {
    "id": "1i-5WyucvQ6v"
   },
   "id": "1i-5WyucvQ6v",
   "execution_count": 230,
   "outputs": [
    {
     "name": "stdout",
     "output_type": "stream",
     "text": [
      "   count\n",
      "0    351\n"
     ]
    }
   ]
  },
  {
   "cell_type": "markdown",
   "id": "ec3c8db7-fa21-4a41-a994-1af63742a642",
   "metadata": {
    "id": "ec3c8db7-fa21-4a41-a994-1af63742a642"
   },
   "source": [
    "5. Сколько ключевых навыков в среднем указывают в вакансиях для DS?\n",
    "Ответ округлите до двух знаков после точки-разделителя."
   ]
  },
  {
   "cell_type": "code",
   "execution_count": 231,
   "id": "949132bc-d5b6-4611-8218-0b9a504d74f4",
   "metadata": {
    "id": "949132bc-d5b6-4611-8218-0b9a504d74f4"
   },
   "outputs": [],
   "source": [
    "# текст запроса\n",
    "## since the separator is ESC - the TAB character, then we remove it from the line\n",
    "##and count the difference in characters plus one\n",
    "query_6_5 = f''' SELECT AVG(CHAR_LENGTH(key_skills)+1 - CHAR_LENGTH(REPLACE(key_skills,CHR(9),'')))\n",
    "         FROM public.vacancies\n",
    "            WHERE (name ILIKE '%data scientist%'\n",
    "                OR name ILIKE '%data science%'\n",
    "                OR name ILIKE '%исследователь данных%'\n",
    "                OR (name LIKE '%ML%' AND  name NOT ILIKE '%html%')\n",
    "                OR name ILIKE '%machine learning%'\n",
    "                OR name ILIKE '%машинн%обучен%')\n",
    "                    AND key_skills IS  NOT NULL\n",
    "                '''"
   ]
  },
  {
   "cell_type": "code",
   "source": [
    "# результат запроса\n",
    "print(round(pd.read_sql_query(query_6_5, connection),2))"
   ],
   "metadata": {
    "id": "a3V24Tvmviqk"
   },
   "id": "a3V24Tvmviqk",
   "execution_count": 232,
   "outputs": [
    {
     "name": "stdout",
     "output_type": "stream",
     "text": [
      "    avg\n",
      "0  6.41\n"
     ]
    }
   ]
  },
  {
   "cell_type": "markdown",
   "id": "1041c17a-ca8f-4543-a0ca-32778914fb00",
   "metadata": {
    "id": "1041c17a-ca8f-4543-a0ca-32778914fb00"
   },
   "source": [
    "6. Напишите запрос, позволяющий вычислить, какую зарплату для DS в **среднем** указывают для каждого типа требуемого опыта (уникальное значение из поля *experience*). \n",
    "\n",
    "При решении задачи примите во внимание следующее:\n",
    "1. Рассматриваем только вакансии, у которых заполнено хотя бы одно из двух полей с зарплатой.\n",
    "2. Если заполнены оба поля с зарплатой, то считаем зарплату по каждой вакансии как сумму двух полей, делённую на 2. Если заполнено только одно из полей, то его и считаем зарплатой по вакансии.\n",
    "3. Если в расчётах участвует null, в результате он тоже даст null (посмотрите, что возвращает запрос select 1 + null). Чтобы избежать этой ситуацию, мы воспользуемся функцией [coalesce](https://postgrespro.ru/docs/postgresql/9.5/functions-conditional#functions-coalesce-nvl-ifnull), которая заменит null на значение, которое мы передадим. Например, посмотрите, что возвращает запрос `select 1 + coalesce(null, 0)`\n",
    "\n",
    "Выясните, на какую зарплату в среднем может рассчитывать дата-сайентист с опытом работы от 3 до 6 лет. Результат округлите до целого числа. "
   ]
  },
  {
   "cell_type": "code",
   "execution_count": 233,
   "id": "6a743d39-5204-48d3-8271-b9f88e68d40e",
   "metadata": {
    "id": "6a743d39-5204-48d3-8271-b9f88e68d40e"
   },
   "outputs": [],
   "source": [
    "# текст запроса\n",
    "query_6_6 = f'''SELECT  experience,  AVG((COALESCE(salary_from,salary_to,0)+COALESCE(salary_to,salary_from,0))/2)\n",
    "        FROM public.vacancies\n",
    "            WHERE (name ILIKE '%data scientist%'\n",
    "                OR name ILIKE '%data science%'\n",
    "                OR name ILIKE '%исследователь данных%'\n",
    "                OR (name LIKE '%ML%' AND  name NOT ILIKE '%html%')\n",
    "                OR name ILIKE '%machine learning%'\n",
    "                OR name ILIKE '%машинн%обучен%')\n",
    "                    AND (salary_from IS NOT NULL OR salary_to IS NOT NULL)\n",
    "        GROUP BY experience\n",
    "\n",
    "            '''\n"
   ]
  },
  {
   "cell_type": "code",
   "source": [
    "# результат запроса\n",
    "print(round(pd.read_sql_query(query_6_6, connection)))\n"
   ],
   "metadata": {
    "id": "aRIJ0mZEwU1_"
   },
   "id": "aRIJ0mZEwU1_",
   "execution_count": 234,
   "outputs": [
    {
     "name": "stdout",
     "output_type": "stream",
     "text": [
      "           experience       avg\n",
      "0           Нет опыта   74643.0\n",
      "1  От 1 года до 3 лет  139675.0\n",
      "2       От 3 до 6 лет  243115.0\n"
     ]
    }
   ]
  },
  {
   "cell_type": "code",
   "execution_count": 234,
   "outputs": [],
   "source": [],
   "metadata": {
    "collapsed": false
   }
  },
  {
   "cell_type": "markdown",
   "id": "6a7892b4-4113-4746-adce-18aa2844f18e",
   "metadata": {
    "id": "6a7892b4-4113-4746-adce-18aa2844f18e"
   },
   "source": [
    "***"
   ]
  },
  {
   "cell_type": "code",
   "source": [
    "# выводы по предметному анализу"
   ],
   "metadata": {
    "id": "UjLWUptVwY1o"
   },
   "id": "UjLWUptVwY1o",
   "execution_count": 235,
   "outputs": []
  },
  {
   "cell_type": "markdown",
   "source": [
    "<span style=\"color:green\">**Из анализа средних зарплат заметно кратное увеличение зарплаты с ростом опыта работы. на позиции джуна средняя зарплата составляет порядка 75000 руб. Далее позиция миддла ценится уже в 2 раза выше. Опыт от 3 до 6 лет уже соответствует позиции сеньор или тимлидов. Для опыта выше 6 лет зарплата уже не указывается, так как устанавливается индивидульно. В среднем для Дата сайнтистов требуется 6-7 ключевых навыков. Навык владения  Пайтоном указываается в бОльшем количестве вакансий, нежели  SQL  и PosgreSQL**</span>."
   ],
   "metadata": {
    "collapsed": false
   }
  },
  {
   "cell_type": "markdown",
   "source": [
    "# Общий вывод по проекту"
   ],
   "metadata": {
    "id": "c0ED6fh7wiBT"
   },
   "id": "c0ED6fh7wiBT"
  },
  {
   "cell_type": "code",
   "source": [
    "# подведем итог исследования, обобщите выводы\n",
    "# здесь можно (это будет плюсом) провести дополнительные исследования данных, сделать прогнозы, продумать варианты продолжения исследования\n",
    "\n",
    "# количество объявлений DS\n",
    "query_6_7 = f'''SELECT  COUNT(*)\n",
    "        FROM public.vacancies\n",
    "            WHERE (name ILIKE '%data scientist%'\n",
    "                OR name ILIKE '%data science%'\n",
    "                OR name ILIKE '%исследователь данных%'\n",
    "                OR (name LIKE '%ML%' AND  name NOT ILIKE '%html%')\n",
    "                OR name ILIKE '%machine learning%'\n",
    "                OR name ILIKE '%машинн%обучен%')\n",
    "\n",
    "            '''\n"
   ],
   "metadata": {
    "id": "h9B3BL-wwj18"
   },
   "id": "h9B3BL-wwj18",
   "execution_count": 236,
   "outputs": []
  },
  {
   "cell_type": "code",
   "execution_count": 237,
   "outputs": [
    {
     "name": "stdout",
     "output_type": "stream",
     "text": [
      "   count\n",
      "0    480\n"
     ]
    }
   ],
   "source": [
    "print(round(pd.read_sql_query(query_6_7, connection),2))\n",
    "connection.close()"
   ],
   "metadata": {
    "collapsed": false
   }
  },
  {
   "cell_type": "markdown",
   "source": [
    "<span style=\"color:green\">**Общее количество вакансий по направленю DS  составляет 480 - это 27% всех предложений в сфере данных. Из них чуть более 10% предложений для  джунов. Средние зарплаты специалистов DS даже с небольшим опытом выше среднего значения верхней вилки всех объявлений\n",
    "Можно продолжить провести анализ по городам для определения количества вакансий по DS в городах и размерах зарплат. Да много что еще можно. SQL интересен для получения выборок из баз, но все же обработку и анализ информации удобнее проводить в pd**</span>."
   ],
   "metadata": {
    "collapsed": false
   }
  },
  {
   "cell_type": "markdown",
   "source": [],
   "metadata": {
    "collapsed": false
   }
  }
 ],
 "metadata": {
  "kernelspec": {
   "display_name": "Python 3 (ipykernel)",
   "language": "python",
   "name": "python3"
  },
  "language_info": {
   "codemirror_mode": {
    "name": "ipython",
    "version": 3
   },
   "file_extension": ".py",
   "mimetype": "text/x-python",
   "name": "python",
   "nbconvert_exporter": "python",
   "pygments_lexer": "ipython3",
   "version": "3.9.7"
  },
  "colab": {
   "provenance": [],
   "collapsed_sections": [
    "8d62a9f3-f64e-4fe7-bdac-c4dffa16155e"
   ]
  }
 },
 "nbformat": 4,
 "nbformat_minor": 5
}
